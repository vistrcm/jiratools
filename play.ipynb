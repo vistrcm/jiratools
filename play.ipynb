{
 "cells": [
  {
   "cell_type": "code",
   "execution_count": 1,
   "metadata": {},
   "outputs": [
    {
     "name": "stdout",
     "output_type": "stream",
     "text": [
      "Requirement already satisfied: nltk in /Users/svitko/.local/share/virtualenvs/jiratools-17wNEzXb/lib/python3.7/site-packages (3.3)\n",
      "Requirement already satisfied: tensorflow-hub in /Users/svitko/.local/share/virtualenvs/jiratools-17wNEzXb/lib/python3.7/site-packages (0.1.1)\n",
      "Requirement already satisfied: six in /Users/svitko/.local/share/virtualenvs/jiratools-17wNEzXb/lib/python3.7/site-packages (from nltk) (1.11.0)\n",
      "Requirement already satisfied: numpy>=1.12.0 in /Users/svitko/.local/share/virtualenvs/jiratools-17wNEzXb/lib/python3.7/site-packages (from tensorflow-hub) (1.15.0)\n",
      "Requirement already satisfied: protobuf>=3.4.0 in /Users/svitko/.local/share/virtualenvs/jiratools-17wNEzXb/lib/python3.7/site-packages (from tensorflow-hub) (3.6.0)\n",
      "Requirement already satisfied: setuptools in /Users/svitko/.local/share/virtualenvs/jiratools-17wNEzXb/lib/python3.7/site-packages (from protobuf>=3.4.0->tensorflow-hub) (39.1.0)\n"
     ]
    }
   ],
   "source": [
    "# Install a pip package in the current Jupyter kernel\n",
    "import sys\n",
    "!{sys.executable} -m pip install nltk tensorflow-hub"
   ]
  },
  {
   "cell_type": "code",
   "execution_count": 2,
   "metadata": {},
   "outputs": [
    {
     "name": "stdout",
     "output_type": "stream",
     "text": [
      "[nltk_data] Downloading package punkt to /Users/svitko/nltk_data...\n",
      "[nltk_data]   Package punkt is already up-to-date!\n",
      "[nltk_data] Downloading package stopwords to\n",
      "[nltk_data]     /Users/svitko/nltk_data...\n",
      "[nltk_data]   Package stopwords is already up-to-date!\n",
      "[nltk_data] Downloading package wordnet to /Users/svitko/nltk_data...\n",
      "[nltk_data]   Package wordnet is already up-to-date!\n"
     ]
    }
   ],
   "source": [
    "import preprocessor  # this will download some data"
   ]
  },
  {
   "cell_type": "code",
   "execution_count": 3,
   "metadata": {},
   "outputs": [],
   "source": [
    "import preprocessor\n",
    "import pandas as pd\n",
    "import pickle\n",
    "import os"
   ]
  },
  {
   "cell_type": "code",
   "execution_count": 4,
   "metadata": {},
   "outputs": [],
   "source": [
    "def maybe_process(store_file=\"data.pkl\", force=False):\n",
    "    if force or not os.path.exists(store_file):\n",
    "        data = preprocessor.process_dir(\"dump/issues\")\n",
    "        with open(store_file, 'wb') as data_file:\n",
    "            pickle.dump(data, data_file)\n",
    "    else:\n",
    "        with open(store_file, 'rb') as data_file:\n",
    "            data = pickle.load(data_file)\n",
    "    return data"
   ]
  },
  {
   "cell_type": "code",
   "execution_count": 5,
   "metadata": {},
   "outputs": [],
   "source": [
    "data = maybe_process()"
   ]
  },
  {
   "cell_type": "code",
   "execution_count": 7,
   "metadata": {},
   "outputs": [],
   "source": [
    "df = pd.DataFrame(data)\n",
    "df = df.fillna(\"Unknown\")"
   ]
  },
  {
   "cell_type": "code",
   "execution_count": null,
   "metadata": {},
   "outputs": [],
   "source": [
    "user_vocabulary = pd.concat([df[\"assignee\"], df[\"reporter\"]]).unique()\n",
    "assignee_vocabulary = df[\"assignee\"].unique()"
   ]
  },
  {
   "cell_type": "code",
   "execution_count": null,
   "metadata": {},
   "outputs": [],
   "source": [
    "with open(\"vocabulary.pkl\", 'wb') as vocabulary_file:\n",
    "    pickle.dump(user_vocabulary, vocabulary_file)\n",
    "with open(\"assignee_vocabulary.pkl\", 'wb') as assignee_assignee_vocabulary_file:\n",
    "    pickle.dump(assignee_vocabulary, assignee_assignee_vocabulary_file)"
   ]
  },
  {
   "cell_type": "code",
   "execution_count": null,
   "metadata": {},
   "outputs": [],
   "source": [
    "vocabulary_map = {\"Unknown\": 0}\n",
    "count = 0\n",
    "for el in user_vocabulary:\n",
    "    count += 1\n",
    "    vocabulary_map[el] = count"
   ]
  },
  {
   "cell_type": "code",
   "execution_count": null,
   "metadata": {},
   "outputs": [],
   "source": [
    "with open(\"vocabulary.pkl\", 'wb') as vocabulary_file:\n",
    "    pickle.dump(user_vocabulary, vocabulary_file)\n",
    "\n",
    "with open(\"vocabulary_map.pkl\", 'wb') as vocabulary_file:\n",
    "    pickle.dump(vocabulary_map, vocabulary_file)"
   ]
  },
  {
   "cell_type": "markdown",
   "metadata": {},
   "source": [
    "Start tensorflow stuff here"
   ]
  },
  {
   "cell_type": "code",
   "execution_count": null,
   "metadata": {},
   "outputs": [],
   "source": [
    "import tensorflow as tf\n",
    "import tensorflow_hub as hub\n",
    "import shutil\n",
    "import numpy as np\n",
    "\n",
    "print(tf.__version__)\n",
    "tf.logging.set_verbosity(tf.logging.INFO)\n",
    "pd.options.display.max_rows = 10\n",
    "pd.options.display.float_format = '{:.1f}'.format"
   ]
  },
  {
   "cell_type": "markdown",
   "metadata": {},
   "source": [
    "Now, split the data into two parts -- training and evaluation."
   ]
  },
  {
   "cell_type": "code",
   "execution_count": null,
   "metadata": {},
   "outputs": [],
   "source": [
    "np.random.seed(seed=1) #makes result reproducible\n",
    "msk = np.random.rand(len(df)) < 0.8\n",
    "traindf = df[msk]\n",
    "evaldf = df[~msk]"
   ]
  },
  {
   "cell_type": "code",
   "execution_count": null,
   "metadata": {},
   "outputs": [],
   "source": [
    "def add_more_features(df):\n",
    "    # TODO: Add more features to the dataframe\n",
    "    df[\"summary_clean\"] = df[\"summary\"].apply(lambda x: \" \".join(preprocessor.process_text(x)))\n",
    "    df[\"description_clean\"] = df[\"description\"].apply(lambda x: \" \".join(preprocessor.process_text(x)))\n",
    "    return df"
   ]
  },
  {
   "cell_type": "code",
   "execution_count": null,
   "metadata": {},
   "outputs": [],
   "source": [
    "# Create pandas input function\n",
    "def make_input_fn(df, num_epochs):\n",
    "    return tf.estimator.inputs.pandas_input_fn(\n",
    "        x = add_more_features(df),\n",
    "#         y = df[\"assignee\"].fillna('Unknown').apply(lambda x: vocabulary_map[x]),\n",
    "        y = df[\"assignee\"],\n",
    "        batch_size = 128,\n",
    "        num_epochs = num_epochs,\n",
    "        shuffle = True,\n",
    "        queue_capacity = 1000,\n",
    "        num_threads = 1\n",
    "      )"
   ]
  },
  {
   "cell_type": "code",
   "execution_count": null,
   "metadata": {},
   "outputs": [],
   "source": [
    "# Define your feature columns\n",
    "def create_feature_cols():\n",
    "    return [\n",
    "#         tf.feature_column.categorical_column_with_vocabulary_list(\"reporter\", \n",
    "#                                                                   vocabulary_list=user_vocabulary.tolist(), \n",
    "#                                                                   default_value=0)\n",
    "\n",
    "\n",
    "        tf.feature_column.embedding_column(\n",
    "            tf.feature_column.categorical_column_with_vocabulary_list(\n",
    "                \"reporter\", vocabulary_list=user_vocabulary.tolist(), \n",
    "                default_value=0),\n",
    "            1500,\n",
    "        ),\n",
    "        \n",
    "#         hub.text_embedding_column(\n",
    "#             key=\"description_clean\", \n",
    "#             module_spec=\"https://tfhub.dev/google/nnlm-en-dim128/1\",\n",
    "#             trainable=True,\n",
    "#         ),\n",
    "        \n",
    "#         hub.text_embedding_column(\n",
    "#             key=\"summary_clean\", \n",
    "#             module_spec=\"https://tfhub.dev/google/nnlm-en-dim128/1\",\n",
    "#             trainable=True,\n",
    "#         ),\n",
    "        \n",
    "        hub.text_embedding_column(\n",
    "            key=\"description_clean\", \n",
    "            module_spec=\"https://tfhub.dev/google/Wiki-words-250-with-normalization/1\",\n",
    "            trainable=True,\n",
    "        ),\n",
    "        \n",
    "        hub.text_embedding_column(\n",
    "            key=\"summary_clean\", \n",
    "            module_spec=\"https://tfhub.dev/google/Wiki-words-250-with-normalization/1\",\n",
    "            trainable=True,\n",
    "        ),\n",
    "        \n",
    "    ]"
   ]
  },
  {
   "cell_type": "code",
   "execution_count": null,
   "metadata": {},
   "outputs": [],
   "source": [
    "# Create estimator train and evaluate function\n",
    "def train_and_evaluate(output_dir, num_train_steps):\n",
    "    estimator = tf.estimator.DNNClassifier(\n",
    "        model_dir = output_dir,\n",
    "        feature_columns = create_feature_cols(),\n",
    "        hidden_units=[200, 100, 50],\n",
    "        n_classes=len(assignee_vocabulary.tolist()),\n",
    "        label_vocabulary = assignee_vocabulary.tolist(),\n",
    "    )\n",
    "    \n",
    "#     estimator = tf.estimator.LinearClassifier(\n",
    "#         model_dir = output_dir, \n",
    "#         feature_columns = create_feature_cols(),\n",
    "#         n_classes=len(user_vocabulary.tolist()),\n",
    "#         label_vocabulary = user_vocabulary.tolist(),\n",
    "#     )\n",
    "    train_spec = tf.estimator.TrainSpec(input_fn = make_input_fn(traindf, None),\n",
    "                                        max_steps = num_train_steps)\n",
    "    eval_spec = tf.estimator.EvalSpec(input_fn = make_input_fn(evaldf, 1), \n",
    "                                      steps = None, \n",
    "                                      start_delay_secs = 1, # start evaluating after N seconds, \n",
    "                                      throttle_secs = 10)  # evaluate every N seconds\n",
    "    tf.estimator.train_and_evaluate(estimator, train_spec, eval_spec)"
   ]
  },
  {
   "cell_type": "code",
   "execution_count": null,
   "metadata": {},
   "outputs": [],
   "source": [
    "OUTDIR = './trained_model'"
   ]
  },
  {
   "cell_type": "code",
   "execution_count": null,
   "metadata": {},
   "outputs": [],
   "source": [
    "# Run the model\n",
    "shutil.rmtree(OUTDIR, ignore_errors = True)\n",
    "train_and_evaluate(OUTDIR, 2000)"
   ]
  },
  {
   "cell_type": "code",
   "execution_count": null,
   "metadata": {},
   "outputs": [],
   "source": []
  }
 ],
 "metadata": {
  "kernelspec": {
   "display_name": "Python 3",
   "language": "python",
   "name": "python3"
  },
  "language_info": {
   "codemirror_mode": {
    "name": "ipython",
    "version": 3
   },
   "file_extension": ".py",
   "mimetype": "text/x-python",
   "name": "python",
   "nbconvert_exporter": "python",
   "pygments_lexer": "ipython3",
   "version": "3.7.0"
  }
 },
 "nbformat": 4,
 "nbformat_minor": 2
}
