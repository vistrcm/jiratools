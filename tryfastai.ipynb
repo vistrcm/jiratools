{
 "cells": [
  {
   "cell_type": "code",
   "execution_count": 54,
   "metadata": {},
   "outputs": [],
   "source": [
    "%reload_ext autoreload\n",
    "%autoreload 2\n",
    "%matplotlib inline"
   ]
  },
  {
   "cell_type": "code",
   "execution_count": 55,
   "metadata": {},
   "outputs": [],
   "source": [
    "from fastai.text import *\n",
    "from pathlib import Path"
   ]
  },
  {
   "cell_type": "code",
   "execution_count": 56,
   "metadata": {},
   "outputs": [],
   "source": [
    "path = Path(\"./dump/\")"
   ]
  },
  {
   "cell_type": "code",
   "execution_count": 57,
   "metadata": {},
   "outputs": [
    {
     "data": {
      "text/plain": [
       "PosixPath('dump')"
      ]
     },
     "execution_count": 57,
     "metadata": {},
     "output_type": "execute_result"
    }
   ],
   "source": [
    "path"
   ]
  },
  {
   "cell_type": "code",
   "execution_count": 58,
   "metadata": {},
   "outputs": [
    {
     "data": {
      "text/plain": [
       "[PosixPath('dump/valid.csv'),\n",
       " PosixPath('dump/jiramst.federated.fds'),\n",
       " PosixPath('dump/jira.federated.fds'),\n",
       " PosixPath('dump/all.csv'),\n",
       " PosixPath('dump/data.pkl'),\n",
       " PosixPath('dump/train.csv')]"
      ]
     },
     "execution_count": 58,
     "metadata": {},
     "output_type": "execute_result"
    }
   ],
   "source": [
    "path.ls()"
   ]
  },
  {
   "cell_type": "code",
   "execution_count": 59,
   "metadata": {},
   "outputs": [
    {
     "data": {
      "text/html": [
       "<div>\n",
       "<style scoped>\n",
       "    .dataframe tbody tr th:only-of-type {\n",
       "        vertical-align: middle;\n",
       "    }\n",
       "\n",
       "    .dataframe tbody tr th {\n",
       "        vertical-align: top;\n",
       "    }\n",
       "\n",
       "    .dataframe thead th {\n",
       "        text-align: right;\n",
       "    }\n",
       "</style>\n",
       "<table border=\"1\" class=\"dataframe\">\n",
       "  <thead>\n",
       "    <tr style=\"text-align: right;\">\n",
       "      <th></th>\n",
       "      <th>label</th>\n",
       "      <th>text</th>\n",
       "      <th>is_valid</th>\n",
       "    </tr>\n",
       "  </thead>\n",
       "  <tbody>\n",
       "    <tr>\n",
       "      <td>0</td>\n",
       "      <td>yh12599</td>\n",
       "      <td>Remove BazaarVoice endpoint from the GCP night...</td>\n",
       "      <td>False</td>\n",
       "    </tr>\n",
       "    <tr>\n",
       "      <td>1</td>\n",
       "      <td>yc14k1s</td>\n",
       "      <td>SmartPush :: Kafka migration :: Unknown messag...</td>\n",
       "      <td>False</td>\n",
       "    </tr>\n",
       "    <tr>\n",
       "      <td>2</td>\n",
       "      <td>m526075</td>\n",
       "      <td>review smartpush (EMS) messages  review smartp...</td>\n",
       "      <td>False</td>\n",
       "    </tr>\n",
       "    <tr>\n",
       "      <td>3</td>\n",
       "      <td>m940030</td>\n",
       "      <td>SmartPush :: Integration :: Migrate test cases...</td>\n",
       "      <td>False</td>\n",
       "    </tr>\n",
       "    <tr>\n",
       "      <td>4</td>\n",
       "      <td>a089973</td>\n",
       "      <td>MSP Content - update operational details GCP C...</td>\n",
       "      <td>False</td>\n",
       "    </tr>\n",
       "  </tbody>\n",
       "</table>\n",
       "</div>"
      ],
      "text/plain": [
       "     label                                               text  is_valid\n",
       "0  yh12599  Remove BazaarVoice endpoint from the GCP night...     False\n",
       "1  yc14k1s  SmartPush :: Kafka migration :: Unknown messag...     False\n",
       "2  m526075  review smartpush (EMS) messages  review smartp...     False\n",
       "3  m940030  SmartPush :: Integration :: Migrate test cases...     False\n",
       "4  a089973  MSP Content - update operational details GCP C...     False"
      ]
     },
     "execution_count": 59,
     "metadata": {},
     "output_type": "execute_result"
    }
   ],
   "source": [
    "df = pd.read_csv(path/'all.csv')\n",
    "df.head()"
   ]
  },
  {
   "cell_type": "code",
   "execution_count": 60,
   "metadata": {},
   "outputs": [
    {
     "data": {
      "text/plain": [
       "\"SmartPush :: Kafka migration :: Unknown message types generate exceptions Currently EMS doesn't expect any message types but known ones. Unknown message type is rather an exception. Meanwhile there are lots of unknown message types coming from Kariba to Kafka availability topic. Each unknown message generate an exception being logged by FCC. It makes FCC logs non-readable and wastes resources for stack trace processing.  It is suggested to replace this logic by on demand (debug) logging without stack trace generation. For Kafka only. \""
      ]
     },
     "execution_count": 60,
     "metadata": {},
     "output_type": "execute_result"
    }
   ],
   "source": [
    "df['text'][1]"
   ]
  },
  {
   "cell_type": "code",
   "execution_count": 61,
   "metadata": {},
   "outputs": [],
   "source": [
    "# data_lm = TextDataBunch.from_csv(path, 'all.csv')"
   ]
  },
  {
   "cell_type": "code",
   "execution_count": 62,
   "metadata": {},
   "outputs": [],
   "source": [
    "# data_lm.save()"
   ]
  },
  {
   "cell_type": "code",
   "execution_count": 63,
   "metadata": {},
   "outputs": [],
   "source": [
    "# data = load_data(path)"
   ]
  },
  {
   "cell_type": "code",
   "execution_count": 64,
   "metadata": {},
   "outputs": [],
   "source": [
    "# data = TextClasDataBunch.from_csv(path, 'all.csv')\n",
    "# data.show_batch()"
   ]
  },
  {
   "cell_type": "code",
   "execution_count": 65,
   "metadata": {},
   "outputs": [],
   "source": [
    "# data.vocab.itos[:10]"
   ]
  },
  {
   "cell_type": "code",
   "execution_count": 66,
   "metadata": {},
   "outputs": [],
   "source": [
    "# data.train_ds[0][0]"
   ]
  },
  {
   "cell_type": "code",
   "execution_count": 67,
   "metadata": {},
   "outputs": [],
   "source": [
    "data = (TextList.from_csv(path, 'all.csv', cols='text')\n",
    "                .split_from_df(col=2)\n",
    "                .label_from_df(cols=0)\n",
    "                .databunch())"
   ]
  },
  {
   "cell_type": "code",
   "execution_count": 68,
   "metadata": {},
   "outputs": [
    {
     "data": {
      "text/html": [
       "<table border=\"1\" class=\"dataframe\">\n",
       "  <thead>\n",
       "    <tr style=\"text-align: right;\">\n",
       "      <th>text</th>\n",
       "      <th>target</th>\n",
       "    </tr>\n",
       "  </thead>\n",
       "  <tbody>\n",
       "    <tr>\n",
       "      <td>xxbos xxup 16d xxmaj jenkin issue : navapp xxmaj review builds are failing xxup 16d navapp xxmaj jenkin issue . navapp xxmaj review build are failing . xxmaj below is the console output : xxmaj skipping 8 xxup kb .. xxmaj full xxmaj log xxunk xxup feature / xxmaj xxunk } # timeout=10 06:11:52 &gt; / usr / local / bin / git rev - parse xxup feature / xxunk</td>\n",
       "      <td>yc05r2k</td>\n",
       "    </tr>\n",
       "    <tr>\n",
       "      <td>xxbos xxmaj collect all external_services xxmaj collect all external_services properties in job_configs ( xxup 3.35.x ) and cookbooks . xxmaj all external services from xxup ci scripts : \" externalservice . egcbalancesgetegcbalancesadapter . getegcbalances.address \" : \" http : / / 11.120.103.23:9031 / egcservice / services / get_egc_balances_soapserviceport \" \" externalservice . egcbalancesgetegcbalancesadapter . getegcbalances.address \" : \" http : / / 11.120.103.23:9091 / egcservice / services / get_egc_balances_soapserviceport \"</td>\n",
       "      <td>yc14ki1</td>\n",
       "    </tr>\n",
       "    <tr>\n",
       "      <td>xxbos spike - xxmaj artifactory &amp; gitlab xxup rest apis xxmaj get familiar with the xxmaj artifactory &amp; xxmaj gitlab xxup rest apis . xxmaj this will allow for a deeper understand of available options for \" xxmaj dashboard \" features and enhancements . * xxmaj deliverable * : a short doc that explains the basics from a xxmaj macy 's perspective that allows our team to easily gather useful</td>\n",
       "      <td>m673639</td>\n",
       "    </tr>\n",
       "    <tr>\n",
       "      <td>xxbos xxup un : xxmaj create an environment for xxmaj apollo xxmaj indexing xxup nfr testing w / 4x-5x xxmaj catalog xxmaj size xxmaj as a part of story [ xxunk : / / jiramst:8443 / browse / xxup xxunk ] we need to have an environment to test different configurations for 4x-5x catalog size .    xxmaj please create a blueprint so we can deploy environment per need</td>\n",
       "      <td>yh03634</td>\n",
       "    </tr>\n",
       "    <tr>\n",
       "      <td>xxbos xxup sdp_url , apollo_url should be passed to downstream jobs . subj published review request http : / / macys-nexus.vm.griddynamics.net / cr / r / xxunk / is it shipped ? svn commit -m \" xxup wdsdo-4374 new staging xxunk xxup 3.23.x / runsdp.py xxmaj sending xxup 3.23.x / xxunk xxmaj sending xxup 3.23.x / settings.py xxmaj adding xxup 3.23.x / staging2.py xxmaj transmitting file data xxrep 4 .</td>\n",
       "      <td>yc14db1</td>\n",
       "    </tr>\n",
       "  </tbody>\n",
       "</table>"
      ],
      "text/plain": [
       "<IPython.core.display.HTML object>"
      ]
     },
     "metadata": {},
     "output_type": "display_data"
    }
   ],
   "source": [
    "data.show_batch()"
   ]
  },
  {
   "cell_type": "code",
   "execution_count": 69,
   "metadata": {},
   "outputs": [
    {
     "data": {
      "text/plain": [
       "['xxunk',\n",
       " 'xxpad',\n",
       " 'xxbos',\n",
       " 'xxeos',\n",
       " 'xxfld',\n",
       " 'xxmaj',\n",
       " 'xxup',\n",
       " 'xxrep',\n",
       " 'xxwrep',\n",
       " '/']"
      ]
     },
     "execution_count": 69,
     "metadata": {},
     "output_type": "execute_result"
    }
   ],
   "source": [
    "data.vocab.itos[:10]"
   ]
  },
  {
   "cell_type": "code",
   "execution_count": 70,
   "metadata": {},
   "outputs": [
    {
     "data": {
      "text/plain": [
       "Text xxbos xxmaj remove bazaarvoice endpoint from the xxup gcp nightly purge job    xxmaj please remove the endpoint from the xxup gcp nightly purge job :    * * * / review / purgeall *    xxmaj this was already done for xxup wdc and xxup dal as part of https : / / jira.federated.fds / browse / xxup xxunk   xxmaj remove the purge end    * { color : # xxrep 6 3 } / xapi / digital / v1 / page / review / { xxunk : # xxrep 6 3 } xxunk } * from xxup gcp   purge script configured on xxmaj control m to run during nightly recycle .    * xxmaj reason * : xxmaj since this purge is causing xxunk on requests to xxmaj xxunk and causing quota xxunk exception . xxmaj also , xxmaj no hard cache purge is required during nightly recycle .    xxup mr https : / / code.devops.fds.com / devops / homepagexapipurger / merge_requests / 14"
      ]
     },
     "execution_count": 70,
     "metadata": {},
     "output_type": "execute_result"
    }
   ],
   "source": [
    "data.train_ds[0][0]"
   ]
  },
  {
   "cell_type": "code",
   "execution_count": 71,
   "metadata": {},
   "outputs": [],
   "source": [
    "bs=48"
   ]
  },
  {
   "cell_type": "code",
   "execution_count": 72,
   "metadata": {},
   "outputs": [],
   "source": [
    "data_lm = (TextList.from_csv(path, 'all.csv', cols='text')\n",
    "            .split_by_rand_pct(0.1)\n",
    "           #We randomly split and keep 10% for validation\n",
    "            .label_for_lm()           \n",
    "           #We want to do a language model so we label accordingly\n",
    "            .databunch(bs=bs))\n",
    "data_lm.save('data_lm.pkl')"
   ]
  },
  {
   "cell_type": "code",
   "execution_count": 73,
   "metadata": {},
   "outputs": [],
   "source": [
    "data_lm = load_data(path, 'data_lm.pkl', bs=bs)"
   ]
  },
  {
   "cell_type": "code",
   "execution_count": 74,
   "metadata": {},
   "outputs": [
    {
     "data": {
      "text/html": [
       "<table border=\"1\" class=\"dataframe\">\n",
       "  <thead>\n",
       "    <tr style=\"text-align: right;\">\n",
       "      <th>idx</th>\n",
       "      <th>text</th>\n",
       "    </tr>\n",
       "  </thead>\n",
       "  <tbody>\n",
       "    <tr>\n",
       "      <td>0</td>\n",
       "      <td>: # xxrep 6 3 } / xapi / digital / v1 / page / review / { xxunk : # xxrep 6 3 } xxunk } * from xxup gcp   purge script configured on xxmaj control m to run during nightly recycle .    * xxmaj reason * : xxmaj since this purge is causing xxunk on requests to xxmaj xxunk and causing quota xxunk exception .</td>\n",
       "    </tr>\n",
       "    <tr>\n",
       "      <td>1</td>\n",
       "      <td>chef servers xxmaj autoclose : xxmaj if your problem is not solved please reopen it . xxbos xxup xxunk midtier down http : / / www.mcomtest051.fds.com 1 . navigate to https : / / xxunk / siteadmin 2.click on xxup run xxunk xxup tfs xxmaj report xxunk xxup tfs service xxmaj report it is showing like \" xxmaj service is xxmaj down \" . please test on latest environment xxbos</td>\n",
       "    </tr>\n",
       "    <tr>\n",
       "      <td>2</td>\n",
       "      <td>/ homepage - xapi / view / xxup 17p xxmaj homepage / view / homepage - xapi / view / xxup 17q xxmaj java - xxmaj componentization - xxup pdp / view / xxup 17p xxmaj java - xxmaj componentization - xxup pdp / view / xxup 17q leanlablist / view / xxup 17a legacycore / view / xxup 17a xxmaj loyalty / view / eddcassandra - msployalty / view</td>\n",
       "    </tr>\n",
       "    <tr>\n",
       "      <td>3</td>\n",
       "      <td>we should better use    the java 7 compiler . xxmaj thank you . i need to review xxup noc please use https : / / platform-ci.devops.fds.com / jenkins / view / xxmaj platform / view / token - util / as example xxmaj as i see in pom.xml contains the version { code } &lt; xxunk &lt; / version &gt; { code } xxmaj typically used &lt; xxunk</td>\n",
       "    </tr>\n",
       "    <tr>\n",
       "      <td>4</td>\n",
       "      <td>http : / / 11.16.154.98:8080 / jenkins / view / xxmaj profiling / view / profiling_1st_env_jboss_part / job / xxunk / 25 / is green . i consider this ticket as resolved . xxmaj autoclose : xxmaj if your problem is not solved please reopen it . xxbos remove jobs output and logs xxmaj please   remove jobs output and logs from the following runs : [ http : /</td>\n",
       "    </tr>\n",
       "  </tbody>\n",
       "</table>"
      ],
      "text/plain": [
       "<IPython.core.display.HTML object>"
      ]
     },
     "metadata": {},
     "output_type": "display_data"
    }
   ],
   "source": [
    "data_lm.show_batch()"
   ]
  },
  {
   "cell_type": "code",
   "execution_count": 75,
   "metadata": {},
   "outputs": [
    {
     "data": {
      "text/plain": [
       "['xxunk',\n",
       " 'xxpad',\n",
       " 'xxbos',\n",
       " 'xxeos',\n",
       " 'xxfld',\n",
       " 'xxmaj',\n",
       " 'xxup',\n",
       " 'xxrep',\n",
       " 'xxwrep',\n",
       " '/']"
      ]
     },
     "execution_count": 75,
     "metadata": {},
     "output_type": "execute_result"
    }
   ],
   "source": [
    "data_lm.vocab.itos[:10]"
   ]
  },
  {
   "cell_type": "code",
   "execution_count": 76,
   "metadata": {},
   "outputs": [
    {
     "data": {
      "text/plain": [
       "Text xxbos xxmaj remove bazaarvoice endpoint from the xxup gcp nightly purge job    xxmaj please remove the endpoint from the xxup gcp nightly purge job :    * * * / review / purgeall *    xxmaj this was already done for xxup wdc and xxup dal as part of https : / / jira.federated.fds / browse / xxup xxunk   xxmaj remove the purge end    * { color : # xxrep 6 3 } / xapi / digital / v1 / page / review / { xxunk : # xxrep 6 3 } xxunk } * from xxup gcp   purge script configured on xxmaj control m to run during nightly recycle .    * xxmaj reason * : xxmaj since this purge is causing xxunk on requests to xxmaj xxunk and causing quota xxunk exception . xxmaj also , xxmaj no hard cache purge is required during nightly recycle .    xxup mr https : / / code.devops.fds.com / devops / homepagexapipurger / merge_requests / 14"
      ]
     },
     "execution_count": 76,
     "metadata": {},
     "output_type": "execute_result"
    }
   ],
   "source": [
    "data_lm.train_ds[0][0]"
   ]
  }
 ],
 "metadata": {
  "kernelspec": {
   "display_name": "Python 3",
   "language": "python",
   "name": "python3"
  },
  "language_info": {
   "codemirror_mode": {
    "name": "ipython",
    "version": 3
   },
   "file_extension": ".py",
   "mimetype": "text/x-python",
   "name": "python",
   "nbconvert_exporter": "python",
   "pygments_lexer": "ipython3",
   "version": "3.7.4"
  }
 },
 "nbformat": 4,
 "nbformat_minor": 2
}
