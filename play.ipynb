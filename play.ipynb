{
 "cells": [
  {
   "cell_type": "code",
   "execution_count": 33,
   "metadata": {},
   "outputs": [
    {
     "name": "stdout",
     "output_type": "stream",
     "text": [
      "Requirement already satisfied: nltk in /usr/local/lib/python3.5/dist-packages (3.3)\n",
      "Requirement already satisfied: tensorflow-hub in /usr/local/lib/python3.5/dist-packages (0.1.1)\n",
      "Requirement already satisfied: six in /usr/local/lib/python3.5/dist-packages (from nltk) (1.11.0)\n",
      "Requirement already satisfied: protobuf>=3.4.0 in /usr/local/lib/python3.5/dist-packages (from tensorflow-hub) (3.6.0)\n",
      "Requirement already satisfied: numpy>=1.12.0 in /usr/local/lib/python3.5/dist-packages (from tensorflow-hub) (1.14.5)\n",
      "Requirement already satisfied: setuptools in /usr/local/lib/python3.5/dist-packages (from protobuf>=3.4.0->tensorflow-hub) (39.1.0)\n",
      "\u001b[33mYou are using pip version 10.0.1, however version 18.0 is available.\n",
      "You should consider upgrading via the 'pip install --upgrade pip' command.\u001b[0m\n"
     ]
    }
   ],
   "source": [
    "# Install a pip package in the current Jupyter kernel\n",
    "import sys\n",
    "!{sys.executable} -m pip install nltk tensorflow-hub"
   ]
  },
  {
   "cell_type": "code",
   "execution_count": 34,
   "metadata": {},
   "outputs": [],
   "source": [
    "import preprocessor\n",
    "import pandas as pd\n",
    "import pickle\n",
    "import os"
   ]
  },
  {
   "cell_type": "code",
   "execution_count": 35,
   "metadata": {},
   "outputs": [],
   "source": [
    "def maybe_process(store_file=\"data.pkl\", force=False):\n",
    "    if force or not os.path.exists(store_file):\n",
    "        data = preprocessor.process_dir(\"dump\")\n",
    "        with open(store_file, 'wb') as data_file:\n",
    "            pickle.dump(data, data_file)\n",
    "    else:\n",
    "        with open(store_file, 'rb') as data_file:\n",
    "            data = pickle.load(data_file)\n",
    "    return data"
   ]
  },
  {
   "cell_type": "code",
   "execution_count": 36,
   "metadata": {},
   "outputs": [],
   "source": [
    "data = maybe_process()"
   ]
  },
  {
   "cell_type": "code",
   "execution_count": 37,
   "metadata": {},
   "outputs": [],
   "source": [
    "df = pd.DataFrame(data)\n",
    "df = df.fillna(\"Unknown\")"
   ]
  },
  {
   "cell_type": "code",
   "execution_count": 38,
   "metadata": {},
   "outputs": [],
   "source": [
    "user_vocabulary = pd.concat([df[\"assignee\"], df[\"reporter\"]]).unique()"
   ]
  },
  {
   "cell_type": "code",
   "execution_count": 39,
   "metadata": {},
   "outputs": [],
   "source": [
    "with open(\"vocabulary.pkl\", 'wb') as vocabulary_file:\n",
    "    pickle.dump(user_vocabulary, vocabulary_file)"
   ]
  },
  {
   "cell_type": "code",
   "execution_count": 40,
   "metadata": {},
   "outputs": [],
   "source": [
    "vocabulary_map = {\"Unknown\": 0}\n",
    "count = 0\n",
    "for el in user_vocabulary:\n",
    "    count += 1\n",
    "    vocabulary_map[el] = count"
   ]
  },
  {
   "cell_type": "code",
   "execution_count": 41,
   "metadata": {},
   "outputs": [],
   "source": [
    "with open(\"vocabulary.pkl\", 'wb') as vocabulary_file:\n",
    "    pickle.dump(user_vocabulary, vocabulary_file)\n",
    "\n",
    "with open(\"vocabulary_map.pkl\", 'wb') as vocabulary_file:\n",
    "    pickle.dump(vocabulary_map, vocabulary_file)"
   ]
  },
  {
   "cell_type": "markdown",
   "metadata": {},
   "source": [
    "Start tensorflow stuff here"
   ]
  },
  {
   "cell_type": "code",
   "execution_count": 42,
   "metadata": {},
   "outputs": [
    {
     "name": "stdout",
     "output_type": "stream",
     "text": [
      "1.9.0\n"
     ]
    }
   ],
   "source": [
    "import tensorflow as tf\n",
    "import tensorflow_hub as hub\n",
    "import shutil\n",
    "import numpy as np\n",
    "\n",
    "print(tf.__version__)\n",
    "tf.logging.set_verbosity(tf.logging.INFO)\n",
    "pd.options.display.max_rows = 10\n",
    "pd.options.display.float_format = '{:.1f}'.format"
   ]
  },
  {
   "cell_type": "code",
   "execution_count": 43,
   "metadata": {},
   "outputs": [
    {
     "data": {
      "text/html": [
       "<div>\n",
       "<style scoped>\n",
       "    .dataframe tbody tr th:only-of-type {\n",
       "        vertical-align: middle;\n",
       "    }\n",
       "\n",
       "    .dataframe tbody tr th {\n",
       "        vertical-align: top;\n",
       "    }\n",
       "\n",
       "    .dataframe thead th {\n",
       "        text-align: right;\n",
       "    }\n",
       "</style>\n",
       "<table border=\"1\" class=\"dataframe\">\n",
       "  <thead>\n",
       "    <tr style=\"text-align: right;\">\n",
       "      <th></th>\n",
       "      <th>assignee</th>\n",
       "      <th>description</th>\n",
       "      <th>id</th>\n",
       "      <th>key</th>\n",
       "      <th>reporter</th>\n",
       "      <th>status</th>\n",
       "      <th>summary</th>\n",
       "    </tr>\n",
       "  </thead>\n",
       "  <tbody>\n",
       "    <tr>\n",
       "      <th>0</th>\n",
       "      <td>yh02364</td>\n",
       "      <td>Broken links to account_xapi logs and conf on ...</td>\n",
       "      <td>825488</td>\n",
       "      <td>DEVOPS-8155</td>\n",
       "      <td>yh02364</td>\n",
       "      <td>Closed</td>\n",
       "      <td>Broken links to account_xapi logs and conf on ...</td>\n",
       "    </tr>\n",
       "    <tr>\n",
       "      <th>1</th>\n",
       "      <td>yh00677</td>\n",
       "      <td>https://c4d.devops.fds.com/#pk=8143  \\r\\n\\r\\nT...</td>\n",
       "      <td>683408</td>\n",
       "      <td>WDSDO-25052</td>\n",
       "      <td>p139rpd</td>\n",
       "      <td>Closed</td>\n",
       "      <td>Delete C4D Env</td>\n",
       "    </tr>\n",
       "    <tr>\n",
       "      <th>2</th>\n",
       "      <td>yc03k1m</td>\n",
       "      <td>Please grant access to Suvarna (m172665) tpo J...</td>\n",
       "      <td>753374</td>\n",
       "      <td>DEVOPS-2558</td>\n",
       "      <td>m910042</td>\n",
       "      <td>Closed</td>\n",
       "      <td>Suvarna Kommura requires QA access to Jenkins ...</td>\n",
       "    </tr>\n",
       "    <tr>\n",
       "      <th>3</th>\n",
       "      <td>yc14sv1</td>\n",
       "      <td>Parameters that used in deployment or redeploy...</td>\n",
       "      <td>299398</td>\n",
       "      <td>WDSDO-5800</td>\n",
       "      <td>yc14ay1</td>\n",
       "      <td>Closed</td>\n",
       "      <td>Request to provide parameters of Webapp enviro...</td>\n",
       "    </tr>\n",
       "    <tr>\n",
       "      <th>4</th>\n",
       "      <td>m825519</td>\n",
       "      <td>Create new certification dashboards for MCOM a...</td>\n",
       "      <td>638405</td>\n",
       "      <td>WDSDO-22797</td>\n",
       "      <td>m825519</td>\n",
       "      <td>Closed</td>\n",
       "      <td>Certification dashboard per brand</td>\n",
       "    </tr>\n",
       "  </tbody>\n",
       "</table>\n",
       "</div>"
      ],
      "text/plain": [
       "  assignee                                        description      id  \\\n",
       "0  yh02364  Broken links to account_xapi logs and conf on ...  825488   \n",
       "1  yh00677  https://c4d.devops.fds.com/#pk=8143  \\r\\n\\r\\nT...  683408   \n",
       "2  yc03k1m  Please grant access to Suvarna (m172665) tpo J...  753374   \n",
       "3  yc14sv1  Parameters that used in deployment or redeploy...  299398   \n",
       "4  m825519  Create new certification dashboards for MCOM a...  638405   \n",
       "\n",
       "           key reporter  status  \\\n",
       "0  DEVOPS-8155  yh02364  Closed   \n",
       "1  WDSDO-25052  p139rpd  Closed   \n",
       "2  DEVOPS-2558  m910042  Closed   \n",
       "3   WDSDO-5800  yc14ay1  Closed   \n",
       "4  WDSDO-22797  m825519  Closed   \n",
       "\n",
       "                                             summary  \n",
       "0  Broken links to account_xapi logs and conf on ...  \n",
       "1                                     Delete C4D Env  \n",
       "2  Suvarna Kommura requires QA access to Jenkins ...  \n",
       "3  Request to provide parameters of Webapp enviro...  \n",
       "4                  Certification dashboard per brand  "
      ]
     },
     "execution_count": 43,
     "metadata": {},
     "output_type": "execute_result"
    }
   ],
   "source": [
    "df.head()"
   ]
  },
  {
   "cell_type": "code",
   "execution_count": 44,
   "metadata": {},
   "outputs": [
    {
     "data": {
      "text/html": [
       "<div>\n",
       "<style scoped>\n",
       "    .dataframe tbody tr th:only-of-type {\n",
       "        vertical-align: middle;\n",
       "    }\n",
       "\n",
       "    .dataframe tbody tr th {\n",
       "        vertical-align: top;\n",
       "    }\n",
       "\n",
       "    .dataframe thead th {\n",
       "        text-align: right;\n",
       "    }\n",
       "</style>\n",
       "<table border=\"1\" class=\"dataframe\">\n",
       "  <thead>\n",
       "    <tr style=\"text-align: right;\">\n",
       "      <th></th>\n",
       "      <th>assignee</th>\n",
       "      <th>description</th>\n",
       "      <th>id</th>\n",
       "      <th>key</th>\n",
       "      <th>reporter</th>\n",
       "      <th>status</th>\n",
       "      <th>summary</th>\n",
       "    </tr>\n",
       "  </thead>\n",
       "  <tbody>\n",
       "    <tr>\n",
       "      <th>count</th>\n",
       "      <td>41397</td>\n",
       "      <td>41397</td>\n",
       "      <td>41397</td>\n",
       "      <td>41397</td>\n",
       "      <td>41397</td>\n",
       "      <td>41397</td>\n",
       "      <td>41397</td>\n",
       "    </tr>\n",
       "    <tr>\n",
       "      <th>unique</th>\n",
       "      <td>1121</td>\n",
       "      <td>40159</td>\n",
       "      <td>41397</td>\n",
       "      <td>41397</td>\n",
       "      <td>2151</td>\n",
       "      <td>15</td>\n",
       "      <td>39824</td>\n",
       "    </tr>\n",
       "    <tr>\n",
       "      <th>top</th>\n",
       "      <td>yc14tz1</td>\n",
       "      <td>TBD</td>\n",
       "      <td>781836</td>\n",
       "      <td>WDSDO-2919</td>\n",
       "      <td>yc14sv1</td>\n",
       "      <td>Closed</td>\n",
       "      <td>Discovery build failed</td>\n",
       "    </tr>\n",
       "    <tr>\n",
       "      <th>freq</th>\n",
       "      <td>3832</td>\n",
       "      <td>104</td>\n",
       "      <td>1</td>\n",
       "      <td>1</td>\n",
       "      <td>1002</td>\n",
       "      <td>36637</td>\n",
       "      <td>22</td>\n",
       "    </tr>\n",
       "  </tbody>\n",
       "</table>\n",
       "</div>"
      ],
      "text/plain": [
       "       assignee description      id         key reporter  status  \\\n",
       "count     41397       41397   41397       41397    41397   41397   \n",
       "unique     1121       40159   41397       41397     2151      15   \n",
       "top     yc14tz1         TBD  781836  WDSDO-2919  yc14sv1  Closed   \n",
       "freq       3832         104       1           1     1002   36637   \n",
       "\n",
       "                       summary  \n",
       "count                    41397  \n",
       "unique                   39824  \n",
       "top     Discovery build failed  \n",
       "freq                        22  "
      ]
     },
     "execution_count": 44,
     "metadata": {},
     "output_type": "execute_result"
    }
   ],
   "source": [
    "df.describe()"
   ]
  },
  {
   "cell_type": "markdown",
   "metadata": {},
   "source": [
    "Now, split the data into two parts -- training and evaluation."
   ]
  },
  {
   "cell_type": "code",
   "execution_count": 45,
   "metadata": {},
   "outputs": [],
   "source": [
    "np.random.seed(seed=1) #makes result reproducible\n",
    "msk = np.random.rand(len(df)) < 0.8\n",
    "traindf = df[msk]\n",
    "evaldf = df[~msk]"
   ]
  },
  {
   "cell_type": "code",
   "execution_count": 46,
   "metadata": {},
   "outputs": [],
   "source": [
    "def add_more_features(df):\n",
    "    # TODO: Add more features to the dataframe\n",
    "    return df"
   ]
  },
  {
   "cell_type": "code",
   "execution_count": 47,
   "metadata": {},
   "outputs": [],
   "source": [
    "# Create pandas input function\n",
    "def make_input_fn(df, num_epochs):\n",
    "    return tf.estimator.inputs.pandas_input_fn(\n",
    "        x = add_more_features(df),\n",
    "#         y = df[\"assignee\"].fillna('Unknown').apply(lambda x: vocabulary_map[x]),\n",
    "        y = df[\"assignee\"],\n",
    "        batch_size = 128,\n",
    "        num_epochs = num_epochs,\n",
    "        shuffle = True,\n",
    "        queue_capacity = 1000,\n",
    "        num_threads = 1\n",
    "      )"
   ]
  },
  {
   "cell_type": "code",
   "execution_count": 48,
   "metadata": {},
   "outputs": [],
   "source": [
    "# Define your feature columns\n",
    "def create_feature_cols():\n",
    "    return [\n",
    "#         tf.feature_column.categorical_column_with_vocabulary_list(\"reporter\", \n",
    "#                                                                   vocabulary_list=user_vocabulary.tolist(), \n",
    "#                                                                   default_value=0)\n",
    "\n",
    "\n",
    "        tf.feature_column.embedding_column(\n",
    "            tf.feature_column.categorical_column_with_vocabulary_list(\n",
    "                \"reporter\", vocabulary_list=user_vocabulary.tolist(), \n",
    "                default_value=0),\n",
    "            9,\n",
    "        ),\n",
    "        \n",
    "        hub.text_embedding_column(\n",
    "            key=\"description\", \n",
    "            module_spec=\"https://tfhub.dev/google/nnlm-en-dim128/1\",\n",
    "            trainable=True,\n",
    "        ),\n",
    "        \n",
    "        hub.text_embedding_column(\n",
    "            key=\"summary\", \n",
    "            module_spec=\"https://tfhub.dev/google/nnlm-en-dim128/1\",\n",
    "            trainable=True,\n",
    "        ),\n",
    "        \n",
    "    # TODO: Define additional feature columns\n",
    "    # Hint: Are there any features that would benefit from bucketizing?\n",
    "    ]"
   ]
  },
  {
   "cell_type": "code",
   "execution_count": 49,
   "metadata": {},
   "outputs": [],
   "source": [
    "# Create estimator train and evaluate function\n",
    "def train_and_evaluate(output_dir, num_train_steps):\n",
    "    estimator = tf.estimator.DNNClassifier(\n",
    "        model_dir = output_dir,\n",
    "        feature_columns = create_feature_cols(),\n",
    "        hidden_units=[500, 100],\n",
    "        n_classes=len(user_vocabulary.tolist()),\n",
    "        label_vocabulary = user_vocabulary.tolist(),\n",
    "    )\n",
    "    \n",
    "#     estimator = tf.estimator.LinearClassifier(\n",
    "#         model_dir = output_dir, \n",
    "#         feature_columns = create_feature_cols(),\n",
    "#         n_classes=len(user_vocabulary.tolist()),\n",
    "#         label_vocabulary = user_vocabulary.tolist(),\n",
    "#     )\n",
    "    train_spec = tf.estimator.TrainSpec(input_fn = make_input_fn(traindf, None),\n",
    "                                        max_steps = num_train_steps)\n",
    "    eval_spec = tf.estimator.EvalSpec(input_fn = make_input_fn(evaldf, 1), \n",
    "                                      steps = None, \n",
    "                                      start_delay_secs = 1, # start evaluating after N seconds, \n",
    "                                      throttle_secs = 30)  # evaluate every N seconds\n",
    "    tf.estimator.train_and_evaluate(estimator, train_spec, eval_spec)"
   ]
  },
  {
   "cell_type": "code",
   "execution_count": 50,
   "metadata": {},
   "outputs": [],
   "source": [
    "OUTDIR = './trained_model'"
   ]
  },
  {
   "cell_type": "code",
   "execution_count": null,
   "metadata": {},
   "outputs": [
    {
     "name": "stdout",
     "output_type": "stream",
     "text": [
      "INFO:tensorflow:Using /tmp/tfhub_modules to cache modules.\n",
      "INFO:tensorflow:Downloading TF-Hub Module 'https://tfhub.dev/google/nnlm-en-dim128/1'.\n"
     ]
    }
   ],
   "source": [
    "# Run the model\n",
    "shutil.rmtree(OUTDIR, ignore_errors = True)\n",
    "train_and_evaluate(OUTDIR, 1000)"
   ]
  },
  {
   "cell_type": "code",
   "execution_count": null,
   "metadata": {},
   "outputs": [],
   "source": []
  }
 ],
 "metadata": {
  "kernelspec": {
   "display_name": "Python 3",
   "language": "python",
   "name": "python3"
  },
  "language_info": {
   "codemirror_mode": {
    "name": "ipython",
    "version": 3
   },
   "file_extension": ".py",
   "mimetype": "text/x-python",
   "name": "python",
   "nbconvert_exporter": "python",
   "pygments_lexer": "ipython3",
   "version": "3.5.2"
  }
 },
 "nbformat": 4,
 "nbformat_minor": 2
}
